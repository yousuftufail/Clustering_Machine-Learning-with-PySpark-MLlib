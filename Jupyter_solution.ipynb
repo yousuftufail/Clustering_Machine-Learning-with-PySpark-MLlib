{
 "cells": [
  {
   "cell_type": "markdown",
   "id": "83a00140",
   "metadata": {},
   "source": [
    "# Information: \n",
    "In this example, a dataset with 5000 rows and two columns are dealt. It is an example of unsupervised learning.\n",
    "\n",
    "KMEANS in spark is used for clustering. This example is taken from DataCamp. (www.datacamp.com)"
   ]
  },
  {
   "cell_type": "code",
   "execution_count": 1,
   "id": "c9a76777",
   "metadata": {},
   "outputs": [],
   "source": [
    "# Importing some important libraries\n",
    "\n",
    "import findspark\n",
    "findspark.init(\"path_to_spark-3.1.2-bin-hadoop3.2\")\n",
    "\n",
    "\n",
    "from pyspark import SparkConf\n",
    "from pyspark.context import SparkContext\n",
    "\n",
    "sc = SparkContext.getOrCreate(SparkConf())\n",
    "\n",
    "from pyspark.sql import SparkSession\n",
    "spark=SparkSession.builder.getOrCreate()\n"
   ]
  },
  {
   "cell_type": "code",
   "execution_count": 3,
   "id": "38fe3c18",
   "metadata": {},
   "outputs": [
    {
     "name": "stdout",
     "output_type": "stream",
     "text": [
      "There are 5000 rows in the rdd_split_int dataset\n"
     ]
    }
   ],
   "source": [
    "# Constructing RDD by loading the dataset.\n",
    "\n",
    "clusterRDD = sc.textFile(\"5000_points.txt\")    \n",
    "\n",
    "# Split the RDD based on tab\n",
    "rdd_split = clusterRDD.map(lambda x: x.split(\"\\t\")) # This step is required because above RDD is just a single list with strings\n",
    "\n",
    "# Transform the split RDD by creating a list of integers\n",
    "rdd_split_int = rdd_split.map(lambda x: [int(x[0]), int(x[1])]) # Coverting both the columns into integer\n",
    "\n",
    "# Count the number of rows in RDD \n",
    "print(\"There are {} rows in the rdd_split_int dataset\".format(rdd_split_int.count()))   # Just checking the size"
   ]
  },
  {
   "cell_type": "markdown",
   "id": "10ea7da9",
   "metadata": {},
   "source": [
    "- As Expected:  5000 rows are there"
   ]
  },
  {
   "cell_type": "code",
   "execution_count": 4,
   "id": "7aa95d37",
   "metadata": {},
   "outputs": [
    {
     "name": "stdout",
     "output_type": "stream",
     "text": [
      "The cluster 13 has Within Set Sum of Squared Error 252060331.1260039\n",
      "The cluster 14 has Within Set Sum of Squared Error 215808893.2796594\n",
      "The cluster 15 has Within Set Sum of Squared Error 169394691.52639425\n",
      "The cluster 16 has Within Set Sum of Squared Error 168103213.0429197\n"
     ]
    }
   ],
   "source": [
    "#---------------------This error function will be used in the following calculations--------------------------------\n",
    "from math import sqrt\n",
    "def error(point):\n",
    "    center = model.centers[model.predict(point)]\n",
    "    return sqrt(sum([x**2 for x in (point - center)]))\n",
    "#------------------------------------------------------------\n",
    "\n",
    "\n",
    "from pyspark.mllib.clustering import KMeans\n",
    "\n",
    "\n",
    "for clst in range(13, 17):\n",
    "    model = KMeans.train(rdd_split_int, clst, seed=1)\n",
    "    WSSSE = rdd_split_int.map(lambda point: error(point)).reduce(lambda x, y: x + y)\n",
    "    print(\"The cluster {} has Within Set Sum of Squared Error {}\".format(clst, WSSSE))\n",
    "\n",
    "\n"
   ]
  },
  {
   "cell_type": "markdown",
   "id": "6309c00b",
   "metadata": {},
   "source": [
    "# Note:\n",
    "It is found here that K=16 is the best."
   ]
  },
  {
   "cell_type": "code",
   "execution_count": 13,
   "id": "cfee5b82",
   "metadata": {},
   "outputs": [
    {
     "name": "stdout",
     "output_type": "stream",
     "text": [
      "[array([417799.69426752, 787001.99363057]), array([852058.45259939, 157685.52293578]), array([858947.9713467 , 546259.65902579]), array([381158.4040404 , 394705.36868687]), array([670929.06818182, 862765.73295455]), array([167529.        , 347702.66966967]), array([617926.67761194, 399415.94925373]), array([507818.31339031, 175610.41595442]), array([320602.55, 161521.85]), array([244654.8856305 , 847642.04105572]), array([823421.2507837 , 731145.27272727]), array([606574.95622896, 574455.16835017]), array([801616.78164557, 321123.34177215]), array([337565.11890244, 562157.17682927]), array([139682.37572254, 558123.40462428]), array([420849.46103896, 417929.49350649])]\n"
     ]
    }
   ],
   "source": [
    "# Train the model again with the best k \n",
    "model = KMeans.train(rdd_split_int, k=16, seed=1)\n",
    "\n",
    "# Get cluster centers\n",
    "cluster_centers = model.clusterCenters\n",
    "\n",
    "print(cluster_centers) Just for Checking\n"
   ]
  },
  {
   "cell_type": "code",
   "execution_count": 20,
   "id": "b7f01888",
   "metadata": {},
   "outputs": [],
   "source": [
    "# Convert rdd_split_int RDD into Spark DataFrame\n",
    "rdd_split_int_df = spark.createDataFrame(rdd_split_int, schema=[\"col1\", \"col2\"])\n",
    "\n",
    "# Convert Spark DataFrame into Pandas DataFrame\n",
    "rdd_split_int_df_pandas = rdd_split_int_df.toPandas()\n",
    "\n",
    "import pandas as pd\n",
    "import matplotlib.pyplot as plt\n",
    "\n",
    "# Convert \"cluster_centers\" that you generated earlier into Pandas DataFrame\n",
    "cluster_centers_pandas = pd.DataFrame(cluster_centers, columns=[\"col1\", \"col2\"])"
   ]
  },
  {
   "cell_type": "code",
   "execution_count": 21,
   "id": "c52f1107",
   "metadata": {},
   "outputs": [
    {
     "name": "stdout",
     "output_type": "stream",
     "text": [
      "[[664159, 550946], [665845, 557965], [597173, 575538], [618600, 551446], [635690, 608046], [588100, 557588]]\n",
      "+------+------+\n",
      "|  col1|  col2|\n",
      "+------+------+\n",
      "|664159|550946|\n",
      "|665845|557965|\n",
      "|597173|575538|\n",
      "|618600|551446|\n",
      "|635690|608046|\n",
      "|588100|557588|\n",
      "+------+------+\n",
      "only showing top 6 rows\n",
      "\n",
      "None\n",
      "     col1    col2\n",
      "0  664159  550946\n",
      "1  665845  557965\n",
      "2  597173  575538\n",
      "3  618600  551446\n",
      "4  635690  608046\n",
      "5  588100  557588\n",
      "            col1           col2\n",
      "0  417799.694268  787001.993631\n",
      "1  852058.452599  157685.522936\n",
      "2  858947.971347  546259.659026\n",
      "3  381158.404040  394705.368687\n",
      "4  670929.068182  862765.732955\n",
      "5  167529.000000  347702.669670\n",
      "<class 'pyspark.rdd.PipelinedRDD'>\n",
      "<class 'pyspark.sql.dataframe.DataFrame'>\n",
      "<class 'pandas.core.frame.DataFrame'>\n",
      "<class 'pandas.core.frame.DataFrame'>\n"
     ]
    }
   ],
   "source": [
    "# Just checking what we have so far!\n",
    "\n",
    "print(rdd_split_int.take(6))\n",
    "print(rdd_split_int_df.show(6))\n",
    "print(rdd_split_int_df_pandas.iloc[0:6,:])\n",
    "print(cluster_centers_pandas.iloc[0:6,:])\n",
    "\n",
    "print(type(rdd_split_int))\n",
    "print(type(rdd_split_int_df))\n",
    "\n",
    "print(type(rdd_split_int_df_pandas))\n",
    "print(type(cluster_centers_pandas))\n",
    "\n"
   ]
  },
  {
   "cell_type": "code",
   "execution_count": 22,
   "id": "599830c9",
   "metadata": {},
   "outputs": [
    {
     "data": {
      "image/png": "[encoded data removed]",
      "text/plain": [
       "<Figure size 432x288 with 1 Axes>"
      ]
     },
     "metadata": {
      "needs_background": "light"
     },
     "output_type": "display_data"
    }
   ],
   "source": [
    "# Create an overlaid scatter plot\n",
    "plt.scatter(rdd_split_int_df_pandas[\"col1\"], rdd_split_int_df_pandas[\"col2\"])\n",
    "plt.scatter(cluster_centers_pandas[\"col1\"], cluster_centers_pandas[\"col2\"], color=\"red\", marker=\"x\")\n",
    "plt.show()\n",
    "\n"
   ]
  },
  {
   "cell_type": "markdown",
   "id": "b898de7a",
   "metadata": {},
   "source": [
    "# Conclusion:\n",
    "\n",
    "It is clear from the above graph that the cluster centers/centroids map to the original data."
   ]
  },
  {
   "cell_type": "code",
   "execution_count": null,
   "id": "59cdc67f",
   "metadata": {},
   "outputs": [],
   "source": []
  }
 ],
 "metadata": {
  "kernelspec": {
   "display_name": "Python 3",
   "language": "python",
   "name": "python3"
  },
  "language_info": {
   "codemirror_mode": {
    "name": "ipython",
    "version": 3
   },
   "file_extension": ".py",
   "mimetype": "text/x-python",
   "name": "python",
   "nbconvert_exporter": "python",
   "pygments_lexer": "ipython3",
   "version": "3.8.8"
  }
 },
 "nbformat": 4,
 "nbformat_minor": 5
}
